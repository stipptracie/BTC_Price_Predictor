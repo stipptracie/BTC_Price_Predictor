{
 "cells": [
  {
   "cell_type": "code",
   "execution_count": 20,
   "id": "1d91eadb-6307-4b7a-b0de-603193fac556",
   "metadata": {},
   "outputs": [],
   "source": [
    "\n",
    "import numpy as np\n",
    "import pandas as pd\n",
    "import matplotlib.pyplot as plt\n",
    "import seaborn as sb\n",
    "import talib as ta\n",
    "from sklearn.model_selection import train_test_split\n",
    "from sklearn.preprocessing import StandardScaler\n",
    "from sklearn.linear_model import LogisticRegression\n",
    "from sklearn.svm import SVC\n",
    "from pandas.tseries.offsets import DateOffset\n",
    "from sklearn import metrics\n",
    "from sklearn.metrics import classification_report\n",
    "import warnings\n",
    "warnings.filterwarnings('ignore')"
   ]
  },
  {
   "cell_type": "code",
   "execution_count": 2,
   "id": "fed0114d-41b7-488f-a7a4-a9f2cb8f1a79",
   "metadata": {},
   "outputs": [],
   "source": [
    "# the pandas webreader provides remote data access to apis\n",
    "import pandas_datareader as webreader\n",
    "\n",
    "date_today = \"2020-01-01\"\n",
    "date_start = \"2010-01-01\"\n",
    "\n",
    "# set the symbol to bitcoin-usd quotes\n",
    "# for more symbols check yahoo.finance.com\n",
    "symbol = \"BTC-USD\""
   ]
  },
  {
   "cell_type": "code",
   "execution_count": 3,
   "id": "02857cdd-91bc-4612-81f3-4b241a710a87",
   "metadata": {},
   "outputs": [
    {
     "data": {
      "text/html": [
       "<div>\n",
       "<style scoped>\n",
       "    .dataframe tbody tr th:only-of-type {\n",
       "        vertical-align: middle;\n",
       "    }\n",
       "\n",
       "    .dataframe tbody tr th {\n",
       "        vertical-align: top;\n",
       "    }\n",
       "\n",
       "    .dataframe thead th {\n",
       "        text-align: right;\n",
       "    }\n",
       "</style>\n",
       "<table border=\"1\" class=\"dataframe\">\n",
       "  <thead>\n",
       "    <tr style=\"text-align: right;\">\n",
       "      <th></th>\n",
       "      <th>High</th>\n",
       "      <th>Low</th>\n",
       "      <th>Open</th>\n",
       "      <th>Close</th>\n",
       "      <th>Volume</th>\n",
       "      <th>Adj Close</th>\n",
       "    </tr>\n",
       "    <tr>\n",
       "      <th>Date</th>\n",
       "      <th></th>\n",
       "      <th></th>\n",
       "      <th></th>\n",
       "      <th></th>\n",
       "      <th></th>\n",
       "      <th></th>\n",
       "    </tr>\n",
       "  </thead>\n",
       "  <tbody>\n",
       "    <tr>\n",
       "      <th>2014-09-17</th>\n",
       "      <td>468.174011</td>\n",
       "      <td>452.421997</td>\n",
       "      <td>465.864014</td>\n",
       "      <td>457.334015</td>\n",
       "      <td>21056800</td>\n",
       "      <td>457.334015</td>\n",
       "    </tr>\n",
       "    <tr>\n",
       "      <th>2014-09-18</th>\n",
       "      <td>456.859985</td>\n",
       "      <td>413.104004</td>\n",
       "      <td>456.859985</td>\n",
       "      <td>424.440002</td>\n",
       "      <td>34483200</td>\n",
       "      <td>424.440002</td>\n",
       "    </tr>\n",
       "    <tr>\n",
       "      <th>2014-09-19</th>\n",
       "      <td>427.834991</td>\n",
       "      <td>384.532013</td>\n",
       "      <td>424.102997</td>\n",
       "      <td>394.795990</td>\n",
       "      <td>37919700</td>\n",
       "      <td>394.795990</td>\n",
       "    </tr>\n",
       "    <tr>\n",
       "      <th>2014-09-20</th>\n",
       "      <td>423.295990</td>\n",
       "      <td>389.882996</td>\n",
       "      <td>394.673004</td>\n",
       "      <td>408.903992</td>\n",
       "      <td>36863600</td>\n",
       "      <td>408.903992</td>\n",
       "    </tr>\n",
       "    <tr>\n",
       "      <th>2014-09-21</th>\n",
       "      <td>412.425995</td>\n",
       "      <td>393.181000</td>\n",
       "      <td>408.084991</td>\n",
       "      <td>398.821014</td>\n",
       "      <td>26580100</td>\n",
       "      <td>398.821014</td>\n",
       "    </tr>\n",
       "  </tbody>\n",
       "</table>\n",
       "</div>"
      ],
      "text/plain": [
       "                  High         Low        Open       Close    Volume  \\\n",
       "Date                                                                   \n",
       "2014-09-17  468.174011  452.421997  465.864014  457.334015  21056800   \n",
       "2014-09-18  456.859985  413.104004  456.859985  424.440002  34483200   \n",
       "2014-09-19  427.834991  384.532013  424.102997  394.795990  37919700   \n",
       "2014-09-20  423.295990  389.882996  394.673004  408.903992  36863600   \n",
       "2014-09-21  412.425995  393.181000  408.084991  398.821014  26580100   \n",
       "\n",
       "             Adj Close  \n",
       "Date                    \n",
       "2014-09-17  457.334015  \n",
       "2014-09-18  424.440002  \n",
       "2014-09-19  394.795990  \n",
       "2014-09-20  408.903992  \n",
       "2014-09-21  398.821014  "
      ]
     },
     "execution_count": 3,
     "metadata": {},
     "output_type": "execute_result"
    }
   ],
   "source": [
    "# now we will send the request to the yahoo finance api endpoint\n",
    "df = webreader.DataReader(symbol, start=date_start, end=date_today, data_source=\"yahoo\")\n",
    "df.head(5)"
   ]
  },
  {
   "cell_type": "code",
   "execution_count": 4,
   "id": "6dbc785a-b8cb-4c49-a14a-471ea47abd2c",
   "metadata": {},
   "outputs": [],
   "source": [
    "df['Pct Change'] = df['Close'].pct_change()"
   ]
  },
  {
   "cell_type": "code",
   "execution_count": 5,
   "id": "ee3fd559-0024-4af2-919b-03323ac0fc38",
   "metadata": {},
   "outputs": [],
   "source": [
    "df['50 SMA'] = ta.SMA(df['Close'], timeperiod=50)\n",
    "df['200 SMA'] = ta.SMA(df['Close'], timeperiod=200)\n",
    "df['10 EMA'] = ta.EMA(df['Close'], timeperiod=10)\n",
    "df['20 EMA'] = ta.EMA(df['Close'], timeperiod=20)\n",
    "df['RSI'] = ta.RSI(df['Close'], timeperiod=14)"
   ]
  },
  {
   "cell_type": "code",
   "execution_count": 7,
   "id": "de800ba8-84e8-476d-bb68-37c5347b2396",
   "metadata": {},
   "outputs": [],
   "source": [
    "df['Signal'] = 0\n",
    "df.loc[(df['Pct Change'] >=0), 'Signal'] = 1\n",
    "df.loc[(df['Pct Change'] <0), 'Signal'] = -1"
   ]
  },
  {
   "cell_type": "code",
   "execution_count": 8,
   "id": "49c1d1d7-5186-4529-99de-17d4e47d322e",
   "metadata": {},
   "outputs": [
    {
     "data": {
      "text/html": [
       "<div>\n",
       "<style scoped>\n",
       "    .dataframe tbody tr th:only-of-type {\n",
       "        vertical-align: middle;\n",
       "    }\n",
       "\n",
       "    .dataframe tbody tr th {\n",
       "        vertical-align: top;\n",
       "    }\n",
       "\n",
       "    .dataframe thead th {\n",
       "        text-align: right;\n",
       "    }\n",
       "</style>\n",
       "<table border=\"1\" class=\"dataframe\">\n",
       "  <thead>\n",
       "    <tr style=\"text-align: right;\">\n",
       "      <th></th>\n",
       "      <th>High</th>\n",
       "      <th>Low</th>\n",
       "      <th>Open</th>\n",
       "      <th>Close</th>\n",
       "      <th>Volume</th>\n",
       "      <th>Adj Close</th>\n",
       "      <th>Pct Change</th>\n",
       "      <th>50 SMA</th>\n",
       "      <th>200 SMA</th>\n",
       "      <th>10 EMA</th>\n",
       "      <th>20 EMA</th>\n",
       "      <th>RSI</th>\n",
       "      <th>Signal</th>\n",
       "    </tr>\n",
       "    <tr>\n",
       "      <th>Date</th>\n",
       "      <th></th>\n",
       "      <th></th>\n",
       "      <th></th>\n",
       "      <th></th>\n",
       "      <th></th>\n",
       "      <th></th>\n",
       "      <th></th>\n",
       "      <th></th>\n",
       "      <th></th>\n",
       "      <th></th>\n",
       "      <th></th>\n",
       "      <th></th>\n",
       "      <th></th>\n",
       "    </tr>\n",
       "  </thead>\n",
       "  <tbody>\n",
       "    <tr>\n",
       "      <th>2019-12-29</th>\n",
       "      <td>7513.948242</td>\n",
       "      <td>7279.865234</td>\n",
       "      <td>7317.647461</td>\n",
       "      <td>7422.652832</td>\n",
       "      <td>22445257702</td>\n",
       "      <td>7422.652832</td>\n",
       "      <td>0.014302</td>\n",
       "      <td>7594.035234</td>\n",
       "      <td>9321.269475</td>\n",
       "      <td>7303.683471</td>\n",
       "      <td>7313.282900</td>\n",
       "      <td>51.867873</td>\n",
       "      <td>1</td>\n",
       "    </tr>\n",
       "    <tr>\n",
       "      <th>2019-12-30</th>\n",
       "      <td>7454.824219</td>\n",
       "      <td>7276.308105</td>\n",
       "      <td>7420.272949</td>\n",
       "      <td>7292.995117</td>\n",
       "      <td>22874131672</td>\n",
       "      <td>7292.995117</td>\n",
       "      <td>-0.017468</td>\n",
       "      <td>7558.784609</td>\n",
       "      <td>9316.579832</td>\n",
       "      <td>7301.740134</td>\n",
       "      <td>7311.350730</td>\n",
       "      <td>47.833501</td>\n",
       "      <td>-1</td>\n",
       "    </tr>\n",
       "    <tr>\n",
       "      <th>2019-12-31</th>\n",
       "      <td>7335.290039</td>\n",
       "      <td>7169.777832</td>\n",
       "      <td>7294.438965</td>\n",
       "      <td>7193.599121</td>\n",
       "      <td>21167946112</td>\n",
       "      <td>7193.599121</td>\n",
       "      <td>-0.013629</td>\n",
       "      <td>7527.500830</td>\n",
       "      <td>9309.078662</td>\n",
       "      <td>7282.078132</td>\n",
       "      <td>7300.136291</td>\n",
       "      <td>44.947238</td>\n",
       "      <td>-1</td>\n",
       "    </tr>\n",
       "    <tr>\n",
       "      <th>2020-01-01</th>\n",
       "      <td>7254.330566</td>\n",
       "      <td>7174.944336</td>\n",
       "      <td>7194.892090</td>\n",
       "      <td>7200.174316</td>\n",
       "      <td>18565664997</td>\n",
       "      <td>7200.174316</td>\n",
       "      <td>0.000914</td>\n",
       "      <td>7495.191074</td>\n",
       "      <td>9300.887659</td>\n",
       "      <td>7267.186529</td>\n",
       "      <td>7290.616103</td>\n",
       "      <td>45.182876</td>\n",
       "      <td>1</td>\n",
       "    </tr>\n",
       "    <tr>\n",
       "      <th>2020-01-02</th>\n",
       "      <td>7212.155273</td>\n",
       "      <td>6935.270020</td>\n",
       "      <td>7202.551270</td>\n",
       "      <td>6985.470215</td>\n",
       "      <td>20802083465</td>\n",
       "      <td>6985.470215</td>\n",
       "      <td>-0.029819</td>\n",
       "      <td>7458.735225</td>\n",
       "      <td>9290.842568</td>\n",
       "      <td>7215.965381</td>\n",
       "      <td>7261.554590</td>\n",
       "      <td>39.271849</td>\n",
       "      <td>-1</td>\n",
       "    </tr>\n",
       "  </tbody>\n",
       "</table>\n",
       "</div>"
      ],
      "text/plain": [
       "                   High          Low         Open        Close       Volume  \\\n",
       "Date                                                                          \n",
       "2019-12-29  7513.948242  7279.865234  7317.647461  7422.652832  22445257702   \n",
       "2019-12-30  7454.824219  7276.308105  7420.272949  7292.995117  22874131672   \n",
       "2019-12-31  7335.290039  7169.777832  7294.438965  7193.599121  21167946112   \n",
       "2020-01-01  7254.330566  7174.944336  7194.892090  7200.174316  18565664997   \n",
       "2020-01-02  7212.155273  6935.270020  7202.551270  6985.470215  20802083465   \n",
       "\n",
       "              Adj Close  Pct Change       50 SMA      200 SMA       10 EMA  \\\n",
       "Date                                                                         \n",
       "2019-12-29  7422.652832    0.014302  7594.035234  9321.269475  7303.683471   \n",
       "2019-12-30  7292.995117   -0.017468  7558.784609  9316.579832  7301.740134   \n",
       "2019-12-31  7193.599121   -0.013629  7527.500830  9309.078662  7282.078132   \n",
       "2020-01-01  7200.174316    0.000914  7495.191074  9300.887659  7267.186529   \n",
       "2020-01-02  6985.470215   -0.029819  7458.735225  9290.842568  7215.965381   \n",
       "\n",
       "                 20 EMA        RSI  Signal  \n",
       "Date                                        \n",
       "2019-12-29  7313.282900  51.867873       1  \n",
       "2019-12-30  7311.350730  47.833501      -1  \n",
       "2019-12-31  7300.136291  44.947238      -1  \n",
       "2020-01-01  7290.616103  45.182876       1  \n",
       "2020-01-02  7261.554590  39.271849      -1  "
      ]
     },
     "execution_count": 8,
     "metadata": {},
     "output_type": "execute_result"
    }
   ],
   "source": [
    "df.tail()"
   ]
  },
  {
   "cell_type": "code",
   "execution_count": 11,
   "id": "f8922334-4682-4440-bb70-a25efff67d47",
   "metadata": {},
   "outputs": [],
   "source": [
    "X = df[['Close', 'Volume', 'Pct Change', '50 SMA', '200 SMA', 'RSI']].shift().dropna()\n",
    "y = df['Signal']"
   ]
  },
  {
   "cell_type": "code",
   "execution_count": 14,
   "id": "698e64a4-7d88-4203-8a6a-7c4d788eb29f",
   "metadata": {},
   "outputs": [],
   "source": [
    "training_begin = X.index.min()\n",
    "training_end = X.index.min() + DateOffset(months=12)"
   ]
  },
  {
   "cell_type": "code",
   "execution_count": 15,
   "id": "142efa5f-d3ad-4991-9283-014c3cc65e3d",
   "metadata": {},
   "outputs": [],
   "source": [
    "X_train = X.loc[training_begin:training_end]\n",
    "y_train = y.loc[training_begin:training_end]"
   ]
  },
  {
   "cell_type": "code",
   "execution_count": 16,
   "id": "59d89c15-da50-41c8-ace9-dbeaa1f478ac",
   "metadata": {},
   "outputs": [],
   "source": [
    "X_test = X.loc[training_end+DateOffset(days=1):]\n",
    "y_test = y.loc[training_end+DateOffset(days=1):]"
   ]
  },
  {
   "cell_type": "code",
   "execution_count": 17,
   "id": "b10ff724-0d55-4030-ae9b-6680de124863",
   "metadata": {},
   "outputs": [],
   "source": [
    "scaler = StandardScaler()\n",
    "X_scaler = scaler.fit(X_train)\n",
    "X_train_scaled = X_scaler.transform(X_train)\n",
    "X_test_scaled = X_scaler.transform(X_test)"
   ]
  },
  {
   "cell_type": "code",
   "execution_count": 18,
   "id": "f087c0ed-d849-487b-848f-f90e23f11ff4",
   "metadata": {},
   "outputs": [
    {
     "data": {
      "text/plain": [
       "array([1, 1, 1, ..., 1, 1, 1], dtype=int64)"
      ]
     },
     "execution_count": 18,
     "metadata": {},
     "output_type": "execute_result"
    }
   ],
   "source": [
    "svm_model = SVC()\n",
    "svm_model = svm_model.fit(X_train_scaled, y_train)\n",
    "svm_pred = svm_model.predict(X_test_scaled)\n",
    "svm_pred"
   ]
  },
  {
   "cell_type": "code",
   "execution_count": 21,
   "id": "dcc99062-c506-45f6-b395-19b82e6343f9",
   "metadata": {},
   "outputs": [
    {
     "name": "stdout",
     "output_type": "stream",
     "text": [
      "              precision    recall  f1-score   support\n",
      "\n",
      "          -1       0.29      0.01      0.01       606\n",
      "           1       0.56      0.99      0.71       761\n",
      "\n",
      "    accuracy                           0.55      1367\n",
      "   macro avg       0.42      0.50      0.36      1367\n",
      "weighted avg       0.44      0.55      0.40      1367\n",
      "\n"
     ]
    }
   ],
   "source": [
    "svm_testing_report = classification_report(y_test, svm_pred)\n",
    "print(svm_testing_report)"
   ]
  },
  {
   "cell_type": "code",
   "execution_count": null,
   "id": "07c7d3fe-40f9-4b09-989c-772ac7ed045c",
   "metadata": {},
   "outputs": [],
   "source": []
  }
 ],
 "metadata": {
  "kernelspec": {
   "display_name": "Python 3 (ipykernel)",
   "language": "python",
   "name": "python3"
  },
  "language_info": {
   "codemirror_mode": {
    "name": "ipython",
    "version": 3
   },
   "file_extension": ".py",
   "mimetype": "text/x-python",
   "name": "python",
   "nbconvert_exporter": "python",
   "pygments_lexer": "ipython3",
   "version": "3.7.13"
  }
 },
 "nbformat": 4,
 "nbformat_minor": 5
}
