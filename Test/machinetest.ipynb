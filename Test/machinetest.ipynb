{
 "cells": [
  {
   "cell_type": "code",
   "execution_count": 45,
   "id": "1d91eadb-6307-4b7a-b0de-603193fac556",
   "metadata": {},
   "outputs": [],
   "source": [
    "\n",
    "import numpy as np\n",
    "import pandas as pd\n",
    "import matplotlib.pyplot as plt\n",
    "import seaborn as sb\n",
    "import talib as ta\n",
    "from sklearn.model_selection import train_test_split\n",
    "from sklearn.preprocessing import StandardScaler\n",
    "from sklearn.linear_model import LogisticRegression\n",
    "from sklearn.svm import SVC\n",
    "from pandas.tseries.offsets import DateOffset\n",
    "from sklearn import metrics\n",
    "from sklearn.metrics import classification_report\n",
    "import warnings\n",
    "warnings.filterwarnings('ignore')\n",
    "\n",
    "\n",
    "from numpy import loadtxt\n",
    "from xgboost import XGBClassifier\n",
    "from sklearn.model_selection import train_test_split\n",
    "from sklearn.metrics import accuracy_score"
   ]
  },
  {
   "cell_type": "code",
   "execution_count": 2,
   "id": "fed0114d-41b7-488f-a7a4-a9f2cb8f1a79",
   "metadata": {},
   "outputs": [],
   "source": [
    "# the pandas webreader provides remote data access to apis\n",
    "import pandas_datareader as webreader\n",
    "\n",
    "date_today = \"2022-11-10\"\n",
    "date_start = \"2010-01-01\"\n",
    "\n",
    "# set the symbol to bitcoin-usd quotes\n",
    "# for more symbols check yahoo.finance.com\n",
    "symbol = \"BTC-USD\""
   ]
  },
  {
   "cell_type": "code",
   "execution_count": 3,
   "id": "02857cdd-91bc-4612-81f3-4b241a710a87",
   "metadata": {},
   "outputs": [
    {
     "data": {
      "text/html": [
       "<div>\n",
       "<style scoped>\n",
       "    .dataframe tbody tr th:only-of-type {\n",
       "        vertical-align: middle;\n",
       "    }\n",
       "\n",
       "    .dataframe tbody tr th {\n",
       "        vertical-align: top;\n",
       "    }\n",
       "\n",
       "    .dataframe thead th {\n",
       "        text-align: right;\n",
       "    }\n",
       "</style>\n",
       "<table border=\"1\" class=\"dataframe\">\n",
       "  <thead>\n",
       "    <tr style=\"text-align: right;\">\n",
       "      <th></th>\n",
       "      <th>High</th>\n",
       "      <th>Low</th>\n",
       "      <th>Open</th>\n",
       "      <th>Close</th>\n",
       "      <th>Volume</th>\n",
       "      <th>Adj Close</th>\n",
       "    </tr>\n",
       "    <tr>\n",
       "      <th>Date</th>\n",
       "      <th></th>\n",
       "      <th></th>\n",
       "      <th></th>\n",
       "      <th></th>\n",
       "      <th></th>\n",
       "      <th></th>\n",
       "    </tr>\n",
       "  </thead>\n",
       "  <tbody>\n",
       "    <tr>\n",
       "      <th>2014-09-17</th>\n",
       "      <td>468.174011</td>\n",
       "      <td>452.421997</td>\n",
       "      <td>465.864014</td>\n",
       "      <td>457.334015</td>\n",
       "      <td>21056800</td>\n",
       "      <td>457.334015</td>\n",
       "    </tr>\n",
       "    <tr>\n",
       "      <th>2014-09-18</th>\n",
       "      <td>456.859985</td>\n",
       "      <td>413.104004</td>\n",
       "      <td>456.859985</td>\n",
       "      <td>424.440002</td>\n",
       "      <td>34483200</td>\n",
       "      <td>424.440002</td>\n",
       "    </tr>\n",
       "    <tr>\n",
       "      <th>2014-09-19</th>\n",
       "      <td>427.834991</td>\n",
       "      <td>384.532013</td>\n",
       "      <td>424.102997</td>\n",
       "      <td>394.795990</td>\n",
       "      <td>37919700</td>\n",
       "      <td>394.795990</td>\n",
       "    </tr>\n",
       "    <tr>\n",
       "      <th>2014-09-20</th>\n",
       "      <td>423.295990</td>\n",
       "      <td>389.882996</td>\n",
       "      <td>394.673004</td>\n",
       "      <td>408.903992</td>\n",
       "      <td>36863600</td>\n",
       "      <td>408.903992</td>\n",
       "    </tr>\n",
       "    <tr>\n",
       "      <th>2014-09-21</th>\n",
       "      <td>412.425995</td>\n",
       "      <td>393.181000</td>\n",
       "      <td>408.084991</td>\n",
       "      <td>398.821014</td>\n",
       "      <td>26580100</td>\n",
       "      <td>398.821014</td>\n",
       "    </tr>\n",
       "  </tbody>\n",
       "</table>\n",
       "</div>"
      ],
      "text/plain": [
       "                  High         Low        Open       Close    Volume  \\\n",
       "Date                                                                   \n",
       "2014-09-17  468.174011  452.421997  465.864014  457.334015  21056800   \n",
       "2014-09-18  456.859985  413.104004  456.859985  424.440002  34483200   \n",
       "2014-09-19  427.834991  384.532013  424.102997  394.795990  37919700   \n",
       "2014-09-20  423.295990  389.882996  394.673004  408.903992  36863600   \n",
       "2014-09-21  412.425995  393.181000  408.084991  398.821014  26580100   \n",
       "\n",
       "             Adj Close  \n",
       "Date                    \n",
       "2014-09-17  457.334015  \n",
       "2014-09-18  424.440002  \n",
       "2014-09-19  394.795990  \n",
       "2014-09-20  408.903992  \n",
       "2014-09-21  398.821014  "
      ]
     },
     "execution_count": 3,
     "metadata": {},
     "output_type": "execute_result"
    }
   ],
   "source": [
    "# now we will send the request to the yahoo finance api endpoint\n",
    "df = webreader.DataReader(symbol, start=date_start, end=date_today, data_source=\"yahoo\")\n",
    "df.head(5)"
   ]
  },
  {
   "cell_type": "code",
   "execution_count": 4,
   "id": "6dbc785a-b8cb-4c49-a14a-471ea47abd2c",
   "metadata": {},
   "outputs": [],
   "source": [
    "df['Pct Change'] = df['Close'].pct_change()"
   ]
  },
  {
   "cell_type": "code",
   "execution_count": 5,
   "id": "ee3fd559-0024-4af2-919b-03323ac0fc38",
   "metadata": {},
   "outputs": [],
   "source": [
    "df['50 SMA'] = ta.SMA(df['Close'], timeperiod=50)\n",
    "df['200 SMA'] = ta.SMA(df['Close'], timeperiod=200)\n",
    "df['10 EMA'] = ta.EMA(df['Close'], timeperiod=10)\n",
    "df['20 EMA'] = ta.EMA(df['Close'], timeperiod=20)\n",
    "df['RSI'] = ta.RSI(df['Close'], timeperiod=14)"
   ]
  },
  {
   "cell_type": "code",
   "execution_count": 47,
   "id": "de800ba8-84e8-476d-bb68-37c5347b2396",
   "metadata": {},
   "outputs": [],
   "source": [
    "df['Signal'] = 0\n",
    "df.loc[(df['Pct Change'] >=0), 'Signal'] = 1\n",
    "df.loc[(df['Pct Change'] <0), 'Signal'] = 0"
   ]
  },
  {
   "cell_type": "code",
   "execution_count": 48,
   "id": "49c1d1d7-5186-4529-99de-17d4e47d322e",
   "metadata": {},
   "outputs": [
    {
     "data": {
      "text/html": [
       "<div>\n",
       "<style scoped>\n",
       "    .dataframe tbody tr th:only-of-type {\n",
       "        vertical-align: middle;\n",
       "    }\n",
       "\n",
       "    .dataframe tbody tr th {\n",
       "        vertical-align: top;\n",
       "    }\n",
       "\n",
       "    .dataframe thead th {\n",
       "        text-align: right;\n",
       "    }\n",
       "</style>\n",
       "<table border=\"1\" class=\"dataframe\">\n",
       "  <thead>\n",
       "    <tr style=\"text-align: right;\">\n",
       "      <th></th>\n",
       "      <th>High</th>\n",
       "      <th>Low</th>\n",
       "      <th>Open</th>\n",
       "      <th>Close</th>\n",
       "      <th>Volume</th>\n",
       "      <th>Adj Close</th>\n",
       "      <th>Pct Change</th>\n",
       "      <th>50 SMA</th>\n",
       "      <th>200 SMA</th>\n",
       "      <th>10 EMA</th>\n",
       "      <th>20 EMA</th>\n",
       "      <th>RSI</th>\n",
       "      <th>Signal</th>\n",
       "    </tr>\n",
       "    <tr>\n",
       "      <th>Date</th>\n",
       "      <th></th>\n",
       "      <th></th>\n",
       "      <th></th>\n",
       "      <th></th>\n",
       "      <th></th>\n",
       "      <th></th>\n",
       "      <th></th>\n",
       "      <th></th>\n",
       "      <th></th>\n",
       "      <th></th>\n",
       "      <th></th>\n",
       "      <th></th>\n",
       "      <th></th>\n",
       "    </tr>\n",
       "  </thead>\n",
       "  <tbody>\n",
       "    <tr>\n",
       "      <th>2022-11-07</th>\n",
       "      <td>21053.246094</td>\n",
       "      <td>20489.972656</td>\n",
       "      <td>20924.621094</td>\n",
       "      <td>20602.816406</td>\n",
       "      <td>53510852236</td>\n",
       "      <td>20602.816406</td>\n",
       "      <td>-0.015467</td>\n",
       "      <td>19683.553633</td>\n",
       "      <td>23881.031875</td>\n",
       "      <td>20634.032692</td>\n",
       "      <td>20341.873001</td>\n",
       "      <td>55.038707</td>\n",
       "      <td>0</td>\n",
       "    </tr>\n",
       "    <tr>\n",
       "      <th>2022-11-08</th>\n",
       "      <td>20664.607422</td>\n",
       "      <td>17603.544922</td>\n",
       "      <td>20600.671875</td>\n",
       "      <td>18541.271484</td>\n",
       "      <td>118992465607</td>\n",
       "      <td>18541.271484</td>\n",
       "      <td>-0.100061</td>\n",
       "      <td>19663.496484</td>\n",
       "      <td>23775.036631</td>\n",
       "      <td>20253.530654</td>\n",
       "      <td>20170.387142</td>\n",
       "      <td>35.913352</td>\n",
       "      <td>0</td>\n",
       "    </tr>\n",
       "    <tr>\n",
       "      <th>2022-11-09</th>\n",
       "      <td>18590.458984</td>\n",
       "      <td>15682.692383</td>\n",
       "      <td>18543.761719</td>\n",
       "      <td>15880.780273</td>\n",
       "      <td>102905151606</td>\n",
       "      <td>15880.780273</td>\n",
       "      <td>-0.143490</td>\n",
       "      <td>19603.296309</td>\n",
       "      <td>23657.006880</td>\n",
       "      <td>19458.485130</td>\n",
       "      <td>19761.853155</td>\n",
       "      <td>24.217638</td>\n",
       "      <td>0</td>\n",
       "    </tr>\n",
       "    <tr>\n",
       "      <th>2022-11-10</th>\n",
       "      <td>18054.312500</td>\n",
       "      <td>15834.018555</td>\n",
       "      <td>15883.158203</td>\n",
       "      <td>17586.771484</td>\n",
       "      <td>83202283721</td>\n",
       "      <td>17586.771484</td>\n",
       "      <td>0.107425</td>\n",
       "      <td>19584.083730</td>\n",
       "      <td>23547.594272</td>\n",
       "      <td>19118.173558</td>\n",
       "      <td>19554.702520</td>\n",
       "      <td>38.131300</td>\n",
       "      <td>1</td>\n",
       "    </tr>\n",
       "    <tr>\n",
       "      <th>2022-11-11</th>\n",
       "      <td>17650.943359</td>\n",
       "      <td>16543.482422</td>\n",
       "      <td>17583.251953</td>\n",
       "      <td>17034.292969</td>\n",
       "      <td>55871616488</td>\n",
       "      <td>17034.292969</td>\n",
       "      <td>-0.031414</td>\n",
       "      <td>19536.498574</td>\n",
       "      <td>23430.474194</td>\n",
       "      <td>18739.286178</td>\n",
       "      <td>19314.663515</td>\n",
       "      <td>35.836612</td>\n",
       "      <td>0</td>\n",
       "    </tr>\n",
       "  </tbody>\n",
       "</table>\n",
       "</div>"
      ],
      "text/plain": [
       "                    High           Low          Open         Close  \\\n",
       "Date                                                                 \n",
       "2022-11-07  21053.246094  20489.972656  20924.621094  20602.816406   \n",
       "2022-11-08  20664.607422  17603.544922  20600.671875  18541.271484   \n",
       "2022-11-09  18590.458984  15682.692383  18543.761719  15880.780273   \n",
       "2022-11-10  18054.312500  15834.018555  15883.158203  17586.771484   \n",
       "2022-11-11  17650.943359  16543.482422  17583.251953  17034.292969   \n",
       "\n",
       "                  Volume     Adj Close  Pct Change        50 SMA  \\\n",
       "Date                                                               \n",
       "2022-11-07   53510852236  20602.816406   -0.015467  19683.553633   \n",
       "2022-11-08  118992465607  18541.271484   -0.100061  19663.496484   \n",
       "2022-11-09  102905151606  15880.780273   -0.143490  19603.296309   \n",
       "2022-11-10   83202283721  17586.771484    0.107425  19584.083730   \n",
       "2022-11-11   55871616488  17034.292969   -0.031414  19536.498574   \n",
       "\n",
       "                 200 SMA        10 EMA        20 EMA        RSI  Signal  \n",
       "Date                                                                     \n",
       "2022-11-07  23881.031875  20634.032692  20341.873001  55.038707       0  \n",
       "2022-11-08  23775.036631  20253.530654  20170.387142  35.913352       0  \n",
       "2022-11-09  23657.006880  19458.485130  19761.853155  24.217638       0  \n",
       "2022-11-10  23547.594272  19118.173558  19554.702520  38.131300       1  \n",
       "2022-11-11  23430.474194  18739.286178  19314.663515  35.836612       0  "
      ]
     },
     "execution_count": 48,
     "metadata": {},
     "output_type": "execute_result"
    }
   ],
   "source": [
    "df.tail()"
   ]
  },
  {
   "cell_type": "code",
   "execution_count": 49,
   "id": "f8922334-4682-4440-bb70-a25efff67d47",
   "metadata": {},
   "outputs": [],
   "source": [
    "X = df[['Close', 'Volume', 'Pct Change', '50 SMA', '200 SMA', 'RSI']].shift().dropna()\n",
    "y = df['Signal'].dropna()\n"
   ]
  },
  {
   "cell_type": "code",
   "execution_count": 50,
   "id": "698e64a4-7d88-4203-8a6a-7c4d788eb29f",
   "metadata": {},
   "outputs": [],
   "source": [
    "training_begin = X.index.min()\n",
    "training_end = X.index.min() + DateOffset(months=12)"
   ]
  },
  {
   "cell_type": "code",
   "execution_count": 51,
   "id": "142efa5f-d3ad-4991-9283-014c3cc65e3d",
   "metadata": {},
   "outputs": [],
   "source": [
    "X_train = X.loc[training_begin:training_end]\n",
    "y_train = y.loc[training_begin:training_end]"
   ]
  },
  {
   "cell_type": "code",
   "execution_count": 52,
   "id": "59d89c15-da50-41c8-ace9-dbeaa1f478ac",
   "metadata": {},
   "outputs": [],
   "source": [
    "X_test = X.loc[training_end+DateOffset(days=1):]\n",
    "y_test = y.loc[training_end+DateOffset(days=1):]"
   ]
  },
  {
   "cell_type": "code",
   "execution_count": 53,
   "id": "b10ff724-0d55-4030-ae9b-6680de124863",
   "metadata": {},
   "outputs": [],
   "source": [
    "scaler = StandardScaler()\n",
    "X_scaler = scaler.fit(X_train)\n",
    "X_train_scaled = X_scaler.transform(X_train)\n",
    "X_test_scaled = X_scaler.transform(X_test)"
   ]
  },
  {
   "cell_type": "code",
   "execution_count": 54,
   "id": "f087c0ed-d849-487b-848f-f90e23f11ff4",
   "metadata": {},
   "outputs": [
    {
     "data": {
      "text/plain": [
       "array([1, 1, 1, ..., 1, 1, 1], dtype=int64)"
      ]
     },
     "execution_count": 61,
     "metadata": {},
     "output_type": "execute_result"
    }
   ],
   "source": [
    "svm_model = SVC()\n",
    "svm_model = svm_model.fit(X_train_scaled, y_train)\n",
    "svm_pred = svm_model.predict(X_test_scaled)\n",
    "svm_pred"
   ]
  },
  {
   "cell_type": "code",
   "execution_count": null,
   "id": "dcc99062-c506-45f6-b395-19b82e6343f9",
   "metadata": {},
   "outputs": [
    {
     "name": "stdout",
     "output_type": "stream",
     "text": [
      "              precision    recall  f1-score   support\n",
      "\n",
      "           0       0.29      0.00      0.01      1110\n",
      "           1       0.54      0.99      0.70      1301\n",
      "\n",
      "    accuracy                           0.54      2411\n",
      "   macro avg       0.41      0.50      0.35      2411\n",
      "weighted avg       0.42      0.54      0.38      2411\n",
      "\n"
     ]
    }
   ],
   "source": [
    "svm_testing_report = classification_report(y_test, svm_pred)\n",
    "print(svm_testing_report)"
   ]
  }
 ],
 "metadata": {
  "kernelspec": {
   "display_name": "Python 3 (ipykernel)",
   "language": "python",
   "name": "python3"
  },
  "language_info": {
   "codemirror_mode": {
    "name": "ipython",
    "version": 3
   },
   "file_extension": ".py",
   "mimetype": "text/x-python",
   "name": "python",
   "nbconvert_exporter": "python",
   "pygments_lexer": "ipython3",
   "version": "3.9.12"
  }
 },
 "nbformat": 4,
 "nbformat_minor": 5
}
